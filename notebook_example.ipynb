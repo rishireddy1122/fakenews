{
 "cells": [
  {
   "cell_type": "markdown",
   "metadata": {},
   "source": [
    "# Fake News Detection - Example Notebook\n",
    "\n",
    "This notebook demonstrates how to use the fake news detection model."
   ]
  },
  {
   "cell_type": "code",
   "execution_count": null,
   "metadata": {},
   "outputs": [],
   "source": [
    "# Import required libraries\n",
    "import pandas as pd\n",
    "import sys\n",
    "sys.path.append('..')\n",
    "\n",
    "from src.preprocessing import TextPreprocessor\n",
    "from src.model_trainer import FakeNewsClassifier, train_and_compare_models\n",
    "from sklearn.model_selection import train_test_split"
   ]
  },
  {
   "cell_type": "markdown",
   "metadata": {},
   "source": [
    "## 1. Load and Explore Data"
   ]
  },
  {
   "cell_type": "code",
   "execution_count": null,
   "metadata": {},
   "outputs": [],
   "source": [
    "# Create sample dataset\n",
    "data = {\n",
    "    'text': [\n",
    "        'Scientists discover cure for all diseases',\n",
    "        'Study shows drinking water is beneficial for health',\n",
    "        'Aliens land on Earth and meet world leaders',\n",
    "        'Research confirms exercise improves health',\n",
    "        'Celebrity arrested for crimes never committed',\n",
    "        'Economic report shows unemployment declining',\n",
    "    ],\n",
    "    'label': [1, 0, 1, 0, 1, 0]  # 0 = Real, 1 = Fake\n",
    "}\n",
    "\n",
    "df = pd.DataFrame(data)\n",
    "print(f\"Dataset shape: {df.shape}\")\n",
    "print(f\"\\nLabel distribution:\")\n",
    "print(df['label'].value_counts())\n",
    "df.head()"
   ]
  },
  {
   "cell_type": "markdown",
   "metadata": {},
   "source": [
    "## 2. Preprocess Text Data"
   ]
  },
  {
   "cell_type": "code",
   "execution_count": null,
   "metadata": {},
   "outputs": [],
   "source": [
    "# Initialize preprocessor\n",
    "preprocessor = TextPreprocessor()\n",
    "\n",
    "# Preprocess dataframe\n",
    "df_processed = preprocessor.preprocess_dataframe(df, 'text', 'label')\n",
    "\n",
    "# Show original vs processed\n",
    "for i in range(min(3, len(df))):\n",
    "    print(f\"Original: {df['text'].iloc[i]}\")\n",
    "    print(f\"Processed: {df_processed['processed_text'].iloc[i]}\")\n",
    "    print()"
   ]
  },
  {
   "cell_type": "markdown",
   "metadata": {},
   "source": [
    "## 3. Train Model"
   ]
  },
  {
   "cell_type": "code",
   "execution_count": null,
   "metadata": {},
   "outputs": [],
   "source": [
    "# Split data\n",
    "X = df_processed['processed_text']\n",
    "y = df_processed['label']\n",
    "\n",
    "X_train, X_test, y_train, y_test = train_test_split(\n",
    "    X, y, test_size=0.2, random_state=42\n",
    ")\n",
    "\n",
    "print(f\"Training samples: {len(X_train)}\")\n",
    "print(f\"Test samples: {len(X_test)}\")"
   ]
  },
  {
   "cell_type": "code",
   "execution_count": null,
   "metadata": {},
   "outputs": [],
   "source": [
    "# Train a single model\n",
    "classifier = FakeNewsClassifier(model_type='logistic')\n",
    "metrics = classifier.train(X_train, y_train, X_test, y_test)\n",
    "\n",
    "print(f\"Training Accuracy: {metrics['train_accuracy']:.4f}\")\n",
    "print(f\"Validation Accuracy: {metrics['val_accuracy']:.4f}\")"
   ]
  },
  {
   "cell_type": "markdown",
   "metadata": {},
   "source": [
    "## 4. Make Predictions"
   ]
  },
  {
   "cell_type": "code",
   "execution_count": null,
   "metadata": {},
   "outputs": [],
   "source": [
    "# Test with new examples\n",
    "test_texts = [\n",
    "    \"Breaking news: Scientists make groundbreaking discovery\",\n",
    "    \"Miracle cure will solve all your problems instantly\",\n",
    "]\n",
    "\n",
    "# Preprocess\n",
    "test_processed = [preprocessor.preprocess(text) for text in test_texts]\n",
    "\n",
    "# Predict\n",
    "predictions = classifier.predict(test_processed)\n",
    "probabilities = classifier.predict_proba(test_processed)\n",
    "\n",
    "# Display results\n",
    "for i, text in enumerate(test_texts):\n",
    "    label = \"FAKE\" if predictions[i] == 1 else \"REAL\"\n",
    "    confidence = probabilities[i][predictions[i]] * 100\n",
    "    \n",
    "    print(f\"Text: {text}\")\n",
    "    print(f\"Prediction: {label} (Confidence: {confidence:.2f}%)\")\n",
    "    print(f\"Probabilities - Real: {probabilities[i][0]:.2f}, Fake: {probabilities[i][1]:.2f}\")\n",
    "    print()"
   ]
  },
  {
   "cell_type": "markdown",
   "metadata": {},
   "source": [
    "## 5. Model Evaluation"
   ]
  },
  {
   "cell_type": "code",
   "execution_count": null,
   "metadata": {},
   "outputs": [],
   "source": [
    "# Evaluate on test set\n",
    "eval_metrics = classifier.evaluate(X_test, y_test)\n",
    "\n",
    "print(f\"Test Accuracy: {eval_metrics['accuracy']:.4f}\")\n",
    "print(\"\\nClassification Report:\")\n",
    "print(eval_metrics['classification_report'])"
   ]
  },
  {
   "cell_type": "markdown",
   "metadata": {},
   "source": [
    "## 6. Save Model"
   ]
  },
  {
   "cell_type": "code",
   "execution_count": null,
   "metadata": {},
   "outputs": [],
   "source": [
    "# Save the trained model\n",
    "classifier.save('../models/model.pkl', '../models/vectorizer.pkl')\n",
    "print(\"Model saved successfully!\")"
   ]
  }
 ],
 "metadata": {
  "kernelspec": {
   "display_name": "Python 3",
   "language": "python",
   "name": "python3"
  },
  "language_info": {
   "codemirror_mode": {
    "name": "ipython",
    "version": 3
   },
   "file_extension": ".py",
   "mimetype": "text/x-python",
   "name": "python",
   "nbconvert_exporter": "python",
   "pygments_lexer": "ipython3",
   "version": "3.9.0"
  }
 },
 "nbformat": 4,
 "nbformat_minor": 4
}
